{
 "cells": [
  {
   "cell_type": "code",
   "execution_count": 150,
   "id": "6add522f-dc63-49b9-993e-29b799e8f4c4",
   "metadata": {},
   "outputs": [],
   "source": [
    "import numpy as np\n"
   ]
  },
  {
   "cell_type": "code",
   "execution_count": 151,
   "id": "091c148c-7bf6-4fed-a347-72b65c437c51",
   "metadata": {},
   "outputs": [],
   "source": [
    "text = []\n",
    "with open('problem.txt','r') as file:\n",
    "    for line in file:\n",
    "        for i in range(len(line)):\n",
    "            # remover \"Game x:\"\n",
    "            if (line[i] == \":\"):\n",
    "                text.append(line[i+1:])\n",
    "#print(text)"
   ]
  },
  {
   "cell_type": "code",
   "execution_count": 152,
   "id": "80f33ae8-0ff8-4708-84f9-ad03f4d67882",
   "metadata": {},
   "outputs": [],
   "source": [
    "gg = []\n",
    "for line in text:\n",
    "    ggl = []\n",
    "    for game in line.split(\";\"):\n",
    "        aset = []\n",
    "        for set in game.split(\",\"):\n",
    "            aset.append(set.strip().split())\n",
    "        ggl.append(aset)\n",
    "    gg.append(ggl)\n",
    "\n",
    "# gg:[game][set][dice][qnt:color]\n",
    "#print(gg)"
   ]
  },
  {
   "cell_type": "code",
   "execution_count": 155,
   "id": "38bd7b7c-82f9-4f26-bc1b-54bdf63eb9f4",
   "metadata": {},
   "outputs": [],
   "source": [
    "\"\"\"\n",
    "only 12 red cubes, 13 green cubes, and 14 blue cubes\n",
    "\"\"\"\n",
    "\n",
    "cases = [\"red\",\"green\",\"blue\"]\n",
    "max_quant = [12,13,14]\n",
    "failed = 0\n",
    "correct_idx = []\n",
    "\n",
    "for i in range(len(gg)): # game\n",
    "\n",
    "    #print(f\"Game: {i+1}\")\n",
    "    failed = 0\n",
    "    for j in range(len(gg[i])): # set\n",
    "        quant = [0,0,0]\n",
    "        \n",
    "        for k in range(len(gg[i][j])): # dice\n",
    "            for c in range(len(cases)):\n",
    "                if cases[c] in gg[i][j][k]:\n",
    "                    #print(f\"cor: {cases[c]};\\t dado: {gg[i][j][k]}\")\n",
    "                    quant[c] = int(gg[i][j][k][0])\n",
    "                    \n",
    "                    if quant[c] > max_quant[c]:\n",
    "                        failed = 1;\n",
    "        #print(f\"set: {quant}; fail: {failed}\")\n",
    "    if (not failed):\n",
    "        correct_idx.append(i+1)\n",
    "        \n",
    "#print(correct_idx)"
   ]
  },
  {
   "cell_type": "code",
   "execution_count": 156,
   "id": "a373d4d3-8abc-43cc-8bc4-3fb493b7af44",
   "metadata": {},
   "outputs": [
    {
     "name": "stdout",
     "output_type": "stream",
     "text": [
      "2006\n"
     ]
    }
   ],
   "source": [
    "acc = 0;\n",
    "for id in correct_idx:\n",
    "    acc += id\n",
    "\n",
    "print(acc)"
   ]
  },
  {
   "cell_type": "code",
   "execution_count": null,
   "id": "0e0da035-643c-4a98-ba69-45be538f6713",
   "metadata": {},
   "outputs": [],
   "source": []
  }
 ],
 "metadata": {
  "kernelspec": {
   "display_name": "Python 3 (ipykernel)",
   "language": "python",
   "name": "python3"
  },
  "language_info": {
   "codemirror_mode": {
    "name": "ipython",
    "version": 3
   },
   "file_extension": ".py",
   "mimetype": "text/x-python",
   "name": "python",
   "nbconvert_exporter": "python",
   "pygments_lexer": "ipython3",
   "version": "3.11.6"
  }
 },
 "nbformat": 4,
 "nbformat_minor": 5
}
